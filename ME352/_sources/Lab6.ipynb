{
 "cells": [
  {
   "cell_type": "markdown",
   "id": "2690be2d",
   "metadata": {},
   "source": [
    "# Lab 6. Regression Lab/HW\n",
    "This activity will explore the code behind some basic regression techniques and some applications using routines from python libraries. Make sure to put a text cell with your name at the top."
   ]
  },
  {
   "cell_type": "code",
   "execution_count": 1,
   "id": "c02d9c81",
   "metadata": {},
   "outputs": [],
   "source": [
    "import numpy as np\n",
    "import matplotlib.pyplot as plt\n",
    "%matplotlib inline"
   ]
  },
  {
   "cell_type": "markdown",
   "id": "da787da1",
   "metadata": {},
   "source": [
    "### Task 1. linear regression\n",
    "The Alaska pipeline data file pipelinedata.csv consists of in-field ultrasonic measurements of the depths of defects in the pipes in the Alaska oil pipeline. The depth of the defects were then re-measured in the laboratory. These measurements were performed in six different batches.\n",
    "The data were analyzed to calibrate the bias of the field measurements relative to the laboratory measurements. In this analysis, the field measurement is the response variable and the laboratory measurement is the predictor variable.\n",
    "\n",
    "These data were provided by Harry Berger, who was at the time a scientist for the Office of the Director of the Institute of Materials Research (now the Materials Science and Engineering Laboratory) of NIST. These data were used for a study conducted for the Materials Transportation Bureau of the U.S. Department of Transportation.\n",
    "\n",
    "- Download this file to your working directory for this homework.\n",
    "- Load the file into a numpy array using the loadtxt command in the numpy library. Note that there are some header lines.\n",
    "- Make a plot of the data using dots.\n",
    "- Add a line of best fit to the data. Print this equation in the figure.\n"
   ]
  },
  {
   "cell_type": "code",
   "execution_count": null,
   "id": "859b2adc",
   "metadata": {},
   "outputs": [],
   "source": []
  },
  {
   "cell_type": "markdown",
   "id": "a7fb3438",
   "metadata": {},
   "source": [
    "### Task 2. semilog regression\n",
    "\n",
    "Understanding how rivers behave is important for hydrological engineers and civil engineers when designing dams and flood controls. The size of a river can be measured by discharge, the volume of water passing by a fixed point along the river in a given amount of time. Discharge is typically expressed in either cubic feet per second (cfs) or cubic meters per second (cms). For example, at the mouth of the Amazon River, the mean discharge is approximately 200,000 cms or 6 million cfs. Discharge is typically calculated by measuring the width and mean depth of the river channel, as well as the mean velocity. Multiplying these three variables together gives the discharge.\n",
    "\n",
    "Discharge varies depending upon the amount of precipitation in the drainage basin. Rainfall saturating the ground flows into thousands of tiny rivulets in the drainage basin, and then into ever bigger tributaries that make up the intricate branching stream network. At the end of the summer drought, in September, the discharge on the Raging River at the lone USGS gaging station (about 2 miles from the mouth of the Raging) can be less than 10 cfs. The record discharge at this same gaging station is over 4000 cfs, obviously related to some serious storms on top of already saturated ground.\n",
    "\n",
    "The data in file riverdischarge.csv show discharge as a function of time at gaging station #12145500 on the Raging River in late November 1998, a typically rainy period in western Washington when the ground is mostly saturated. Only part of the hydrograph is shown. The data begin at peak discharge of about 2500 cfs following an intense rainstorm and illustrate the decrease in discharge as water is flushed out of the system. The rainstorm that generated this hydrograph dumped a lot of water in the basin, then passed on quickly. Thus the hydrograph is showing the Raging River's response to a very discrete rainstorm event.\n",
    "\n",
    "- Download this file to your working directory for this homework.\n",
    "- Load the file into a numpy array using the [loadtxt](https://numpy.org/doc/stable/reference/generated/numpy.loadtxt.html) command in the numpy library. Note that there are some header lines.\n",
    "- Make a semilog plot of the data using dots that show the log of the discharge in cubic feet per second (cfs) against time.\n",
    "- Add a line of best fit to the semilog data. Print this equation in the figure.\n",
    "- Make another plot of the data on normal(linear) scales. Add the curve of best fit to this plot with its equation.\n"
   ]
  },
  {
   "cell_type": "code",
   "execution_count": null,
   "id": "ceab648e",
   "metadata": {},
   "outputs": [],
   "source": []
  },
  {
   "cell_type": "markdown",
   "id": "6d8d3f61",
   "metadata": {},
   "source": [
    "### Task 3. loglog regression\n",
    "The file engine_mpg.csv has data on the engine size in L and the highway gas mileage in miles per gallon (mpg) for several cars from 1999. \n",
    "\n",
    "- Download this file to your working directory for this homework.\n",
    "- Load the file into a numpy array using the [loadtxt](https://numpy.org/doc/stable/reference/generated/numpy.loadtxt.html) command in the numpy library. Note that only some of the columns are numerical data, and there are some header lines, too.\n",
    "- Make a loglog plot of the data using dots.\n",
    "- Add a line of best fit to the loglog data. Print this equation in the figure.\n",
    "- Make another plot of the data on normal(linear) scales. Add the curve of best fit to this plot with its equation.\n"
   ]
  },
  {
   "cell_type": "code",
   "execution_count": null,
   "id": "380b0012",
   "metadata": {},
   "outputs": [],
   "source": []
  },
  {
   "cell_type": "markdown",
   "id": "cb067459",
   "metadata": {},
   "source": [
    "### Last Task - Save your work as both a pdf and a ipynb file and upload to Canvas."
   ]
  }
 ],
 "metadata": {
  "kernelspec": {
   "display_name": "Python 3 (ipykernel)",
   "language": "python",
   "name": "python3"
  },
  "language_info": {
   "codemirror_mode": {
    "name": "ipython",
    "version": 3
   },
   "file_extension": ".py",
   "mimetype": "text/x-python",
   "name": "python",
   "nbconvert_exporter": "python",
   "pygments_lexer": "ipython3",
   "version": "3.9.12"
  }
 },
 "nbformat": 4,
 "nbformat_minor": 5
}
