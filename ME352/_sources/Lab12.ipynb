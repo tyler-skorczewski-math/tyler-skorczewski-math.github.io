{
 "cells": [
  {
   "cell_type": "markdown",
   "id": "68c5fcd2",
   "metadata": {},
   "source": [
    "# Lab 12. BVP example\n",
    "This activity will explore the code behind some numerical techniques for boundary value problems and some applications using routines from python libraries. Make sure to put a text cell with your name at the top.\n",
    "\n",
    "In all of the tasks below. Make sure to use figures and text cells to explain what you are doing.  Comments in code are useful to describe your code, but not a replacement for other explanation. Code that uses techniques not introduced in class and not explained well may be questioned further for academic honesty issues. Submissions with just code and results will not earn marks higher than a C.\n"
   ]
  },
  {
   "cell_type": "code",
   "execution_count": 2,
   "id": "e699f2fe",
   "metadata": {},
   "outputs": [],
   "source": [
    "import numpy as np\n",
    "import matplotlib.pyplot as plt\n",
    "from scipy.optimize import fsolve\n",
    "from scipy.integrate import solve_ivp\n",
    "%matplotlib inline"
   ]
  },
  {
   "cell_type": "markdown",
   "id": "02aa6f2a",
   "metadata": {},
   "source": [
    "### Introduction.\n",
    "\n",
    "Consider the Pixar short \"For the birds.\"\n",
    "\n",
    "```{image} ./forthebirds.png\n",
    ":alt: For the birds \n",
    ":width: 300px\n",
    ":align: center\n",
    "```\n",
    "\n",
    "In the video the birds land on a telephone wire and the wire sags. \n",
    "Note that while this video in animated, Pixar doesn't 'draw' a sagging wire, they model the physics of the system and let the computer calculate where the wire should be using solutions to boundary value problems. In this lab we'll look at a couple example cases of the types of calculations modeling this situation.\n",
    "\n",
    "Assume a 30 meter wire is attached to the poles at a height on 10 meters on each side. If the wire is in equilibrium (in time) and we assume the wire has a constant tension, we can say the vertical position $y$ of the wire at horizontal position $x$ can be modeled with\n",
    "\n",
    "$$y'' = f(x),  y(0)=y(30)=10.$$\n",
    "\n",
    "In the equation above $f(x)$ is the sum of the forces other than the tension of the wire at position $x$. Let's assume this is just gravity for now.\n",
    "\n"
   ]
  },
  {
   "cell_type": "markdown",
   "id": "b5b8832e",
   "metadata": {},
   "source": [
    "### Exercise 1. No birds on the wire\n",
    "\n",
    "Assume the mass of the wire itself is such that $f(x) = f_{wire}(x) = 0.001$. Use a centered difference scheme with 200 segments to set up a system of linear equations to solve the BVP and plot your solution.\n"
   ]
  },
  {
   "cell_type": "code",
   "execution_count": null,
   "id": "3eb1eacb",
   "metadata": {},
   "outputs": [],
   "source": []
  },
  {
   "cell_type": "markdown",
   "id": "9e0e2e92",
   "metadata": {},
   "source": [
    "### Exercise 2. Small birds on the wire\n",
    "\n",
    "Assume the mass of the wire itself is such that in addition to the force from the gravity of the wire there are small birds on the wire.\n",
    "\n",
    "$$f_{small birds}(x) = \\begin{cases}0.0025 & \\mbox{ if } 10 \\leq x \\leq 20 \\\\ 0 & \\mbox{ otherwise} \\end{cases}$$\n",
    "\n",
    "Copy your centered difference scheme from above and modify it to set up a system of linear equations to solve the BVP and plot your solution."
   ]
  },
  {
   "cell_type": "code",
   "execution_count": null,
   "id": "99b871e9",
   "metadata": {},
   "outputs": [],
   "source": []
  },
  {
   "cell_type": "markdown",
   "id": "4a8eeda2",
   "metadata": {},
   "source": [
    "### Exercise 3. Small birds and one large bird on the wire. \n",
    "Add a large bird to the wire and compute a new solution. You have the freedom to decide how a large bird should be added here, but you need to explain what you do with text cells. "
   ]
  },
  {
   "cell_type": "code",
   "execution_count": null,
   "id": "84ab6800",
   "metadata": {},
   "outputs": [],
   "source": []
  },
  {
   "cell_type": "markdown",
   "id": "481cff6c",
   "metadata": {},
   "source": [
    "### Last Task - Save your work as both a pdf and a ipynb file and upload to Canvas.\n",
    "Files not saved as pdfs or incorrectly uploaded files will not earn any points. You can double-check your submissions."
   ]
  },
  {
   "cell_type": "code",
   "execution_count": null,
   "id": "d39a94ec",
   "metadata": {},
   "outputs": [],
   "source": []
  }
 ],
 "metadata": {
  "kernelspec": {
   "display_name": "Python 3 (ipykernel)",
   "language": "python",
   "name": "python3"
  },
  "language_info": {
   "codemirror_mode": {
    "name": "ipython",
    "version": 3
   },
   "file_extension": ".py",
   "mimetype": "text/x-python",
   "name": "python",
   "nbconvert_exporter": "python",
   "pygments_lexer": "ipython3",
   "version": "3.9.12"
  }
 },
 "nbformat": 4,
 "nbformat_minor": 5
}
