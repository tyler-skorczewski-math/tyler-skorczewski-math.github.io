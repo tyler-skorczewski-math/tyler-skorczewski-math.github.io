{
 "cells": [
  {
   "cell_type": "markdown",
   "id": "3d8dca0f",
   "metadata": {},
   "source": [
    "# Lab 1. First Jupyter notebook\n",
    "This activity has our first Jupyter notebook for the term. The objectives are to make sure students\n",
    "* get Anaconda & Jupyter Notebooks installed correctly\n",
    "* can download and open an existing notebook file (.ipynb) from Canvas\n",
    "* can perform some basic cell tasks (evaluate, change to markdown, etc)\n",
    "* can save as a PDF and upload back to Canvas"
   ]
  },
  {
   "cell_type": "markdown",
   "id": "95239b67",
   "metadata": {},
   "source": [
    "### Task 1 - import numpy and matplotlib.pyplot\n",
    "The first thing we'll do with every notebook is import numpy, a package of numerical routines, and matplotlib for plotting.\n",
    "We'll normally do this even if we don't plan on using plots, just because we plot many things and do it most of the time.\n",
    "\n",
    "To import these libraries we use\n",
    ">import numpy as np\n",
    "\n",
    ">import matplotlib.pyplot as plt\n",
    "\n",
    ">%matplotlib inline\n",
    "\n",
    "Type this in the code cell below and hit 'shift + enter' to execute the cell commands."
   ]
  },
  {
   "cell_type": "code",
   "execution_count": 1,
   "id": "878eace6",
   "metadata": {},
   "outputs": [],
   "source": [
    "import numpy as np\n",
    "import matplotlib.pyplot as plt\n",
    "\n",
    "%matplotlib inline"
   ]
  },
  {
   "cell_type": "code",
   "execution_count": null,
   "id": "8442d9e5",
   "metadata": {},
   "outputs": [],
   "source": []
  },
  {
   "cell_type": "markdown",
   "id": "ae41b81e",
   "metadata": {},
   "source": [
    "### Task 2 - make text cells and code cells\n",
    "A nice thing about Jupyter notebooks is that is allows us to write text (Markdown/LaTeX) in some cells and code in others. This lets us explain what we are trying to do nicely and neatly in the same place as we develop our code. It also lets us explain results and figures made right next to the results output. We don't need one file to run code, one report file, multiple results & plot files, etc.\n",
    "\n",
    "To make a new cell above the cell we are currently in hit 'Esc + a', to make a new cell below hit 'Esc + b'.\n",
    "\n",
    "All new cells are code cells, but sometimes we want to write text (like this cell). To turn a cell from code to text we can do three things:\n",
    "* click in the cell and hit 'Esc' then '#' then '1'. This cell now has a title on the top line and other lines are text.\n",
    "* click in the cell and hit 'Esc' then '#' then '3'. This cell now has a section title on the top line and other lines are text.\n",
    "* click in the cell and hit 'Esc' then 'm'. This cell is now just text. The 'm' is for Markdown.\n",
    "\n",
    "To do:\n",
    "1. Make a new cell below this cell (above the Task 3 cell) with a section title called 'Completed Task 2.'\n",
    "2. Make a new cell above the very first cell in this notebook with a title that is your name."
   ]
  },
  {
   "cell_type": "markdown",
   "id": "5a982e72",
   "metadata": {},
   "source": [
    "### Task 3 - delete a cell\n",
    "Sometimes we need to delete a cell. We can do this with 'Esc' then 'dd'. You can also do this by clicking in the cell and using the Edit menu on the top of the window. Note there are other things you can do with cells. See the Edit menu for more.\n",
    "\n",
    "Delete the cell below."
   ]
  },
  {
   "cell_type": "markdown",
   "id": "ba45969d",
   "metadata": {},
   "source": [
    "### Task 4 - \"Hello World!\"\n",
    "The first program we run whenever we are learning a new language, or installing a language on new computer, etc. is called Hello World. This program simply prints the statement Hello World.\n",
    "To do this in python/Jupyter notebooks we want to use the print command. \n",
    ">print(\"Hello World!\")\n",
    "\n",
    "You do need the quotation marks. Type this in the code cell below and hit 'Shift + Enter' to evaluate the cell. You should see Hello World printed below the cell."
   ]
  },
  {
   "cell_type": "code",
   "execution_count": null,
   "id": "950f4cc2",
   "metadata": {},
   "outputs": [],
   "source": []
  },
  {
   "cell_type": "markdown",
   "id": "92414a3c",
   "metadata": {},
   "source": [
    "### Task 5 - let's do some calculations\n",
    "Jupyter notebooks can be used as a big calculator."
   ]
  },
  {
   "cell_type": "markdown",
   "id": "f3c29a02",
   "metadata": {},
   "source": [
    "Let's start with something basic. Add 3 and 4 by typing the command below.\n",
    ">3+4\n",
    "\n",
    "Then hit 'Shift + Enter' to execute the cell. Note the number of the input and output next to the cells."
   ]
  },
  {
   "cell_type": "code",
   "execution_count": null,
   "id": "443bcd46",
   "metadata": {},
   "outputs": [],
   "source": []
  },
  {
   "cell_type": "markdown",
   "id": "666737b4",
   "metadata": {},
   "source": [
    "Now we can try something more complicated. Evaluate the sine of pi.\n",
    ">sin(pi)\n"
   ]
  },
  {
   "cell_type": "code",
   "execution_count": null,
   "id": "3e914828",
   "metadata": {},
   "outputs": [],
   "source": []
  },
  {
   "cell_type": "markdown",
   "id": "7c59417a",
   "metadata": {},
   "source": [
    "You should have seen an error message. This is because python by itself does not know what the sine function is. We need to import and use other libraries that have this function. Numpy is one such library (we've already imported above), there is another library called 'math' that also has sine defined."
   ]
  },
  {
   "cell_type": "markdown",
   "id": "8f92db0d",
   "metadata": {},
   "source": [
    "To use a function from the numpy library we can type\n",
    ">np.sin(pi ) \n",
    "\n",
    "Note that in the import statement we said \n",
    ">import numpy as np\n",
    "\n",
    "The 'as np' is us renaming numpy. This is the standard convention for python and numpy users in industry.\n",
    "\n",
    "Try to evaluate the sine of pi now."
   ]
  },
  {
   "cell_type": "code",
   "execution_count": null,
   "id": "40d77bd9",
   "metadata": {},
   "outputs": [],
   "source": []
  },
  {
   "cell_type": "markdown",
   "id": "3d447660",
   "metadata": {},
   "source": [
    "We still see an error message. Can you explain why? Decoding the error messages is a big part of writing programs.\n"
   ]
  },
  {
   "cell_type": "markdown",
   "id": "a2950c17",
   "metadata": {},
   "source": [
    "Now try to evaluate with\n",
    ">np.sin(np.pi)\n",
    "\n",
    "Can you explain why this works?"
   ]
  },
  {
   "cell_type": "code",
   "execution_count": null,
   "id": "a1317b45",
   "metadata": {},
   "outputs": [],
   "source": []
  },
  {
   "cell_type": "markdown",
   "id": "1a0c86ee",
   "metadata": {},
   "source": [
    "Explain your output above. Does it make sense with what you know $\\sin(\\pi)$ is exactly from trigonometry? Write a short explaination of what is happening in a text cell below."
   ]
  },
  {
   "cell_type": "markdown",
   "id": "bf7d1548",
   "metadata": {},
   "source": []
  },
  {
   "cell_type": "markdown",
   "id": "9d22185d",
   "metadata": {},
   "source": [
    "### Task 6 - Save and upload\n",
    "\n",
    "1. To save your notebook use File-> Save As and save using a good name like ME352Lab1_LASTNAME.ipynb\n",
    "2. Next save your notebook as a pdf by either using download as pdf or print the file to a pdf. \n",
    "3. Upload both your .pdf and .ipynb files to the Lab1 dropbox on Canvas."
   ]
  },
  {
   "cell_type": "markdown",
   "id": "34c4d37c",
   "metadata": {},
   "source": [
    "### Congratulations on completing the first lab activity."
   ]
  }
 ],
 "metadata": {
  "kernelspec": {
   "display_name": "Python 3 (ipykernel)",
   "language": "python",
   "name": "python3"
  },
  "language_info": {
   "codemirror_mode": {
    "name": "ipython",
    "version": 3
   },
   "file_extension": ".py",
   "mimetype": "text/x-python",
   "name": "python",
   "nbconvert_exporter": "python",
   "pygments_lexer": "ipython3",
   "version": "3.9.12"
  }
 },
 "nbformat": 4,
 "nbformat_minor": 5
}
