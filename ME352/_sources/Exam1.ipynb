{
 "cells": [
  {
   "cell_type": "markdown",
   "id": "1ea56cf9",
   "metadata": {},
   "source": [
    "# ME 352 Exam 1\n",
    "This notebook contains the tasks for exam 1 of ME352. You may use your own notes and previous jupyter notebooks from the course. You may also use the internet for python, numpy, scipy function documentation. You may not use the internet to look up answers/solutions for the tasks below.\n",
    "\n",
    "Make sure to add a text cell with your name above this cell."
   ]
  },
  {
   "cell_type": "markdown",
   "id": "0e4af394",
   "metadata": {},
   "source": [
    "### Task 1\n",
    "Import any libraries you'll be using in the code cell below."
   ]
  },
  {
   "cell_type": "code",
   "execution_count": null,
   "id": "6975212a",
   "metadata": {},
   "outputs": [],
   "source": []
  },
  {
   "cell_type": "markdown",
   "id": "ce3c8b87",
   "metadata": {},
   "source": [
    "### Task 2\n",
    "\n",
    "Consider the function given by\n",
    "\n",
    "$$f(x) = \\begin{cases} x + 4 & \\mbox{ if } 0 \\leq x \\leq 3 \\\\\n",
    "                       7. + \\sin( 2 \\pi x ) & \\mbox{ if } 3 < x \\leq 5 \\\\\n",
    "                       7 - x^2 & \\mbox{ if } 5 < x \\leq 7 \\\\\n",
    "                       0 & \\mbox{ otherwise } \\end{cases} $$\n",
    "                       \n",
    "- Define this function in a code cell below.\n",
    "- Use the linspace function to make an array of 1001 $x$ values from 0 to 7.\n",
    "- Write a for loop that loops over this array of input $x$ values, calculates the corresponding output value, and stores them in an array of $y$ values.\n",
    "- Plot this function."
   ]
  },
  {
   "cell_type": "code",
   "execution_count": null,
   "id": "678bd275",
   "metadata": {},
   "outputs": [],
   "source": []
  },
  {
   "cell_type": "code",
   "execution_count": null,
   "id": "bb2b3920",
   "metadata": {},
   "outputs": [],
   "source": []
  },
  {
   "cell_type": "markdown",
   "id": "625df62e",
   "metadata": {},
   "source": [
    "### Task 3\n",
    "The Taylor polynomial of degree $2n+1$ for the inverse tangent function (or arctan function) expanded about $x=0$ is given by\n",
    "$$\\tan^{-1}(x) \\approx \\sum_{k=0}^n \\frac{(-1)^k}{2k+1} x^{2k+1}.$$\n",
    "\n",
    "- Write a function called myarctanapprox that takes in a value $x$ and a number of terms $n$ and returns the approximation given above.\n",
    "- Print the value of 4 * your function output evaluated at 1 using $n=2, 5, 10$. (So you'll print three numbers) \n"
   ]
  },
  {
   "cell_type": "code",
   "execution_count": null,
   "id": "844c8d65",
   "metadata": {},
   "outputs": [],
   "source": []
  },
  {
   "cell_type": "code",
   "execution_count": null,
   "id": "e5aa99da",
   "metadata": {},
   "outputs": [],
   "source": []
  },
  {
   "cell_type": "markdown",
   "id": "b3b39d2b",
   "metadata": {},
   "source": [
    "### Task 4 \n",
    "In pipe fluid flow problem the friction factor is related to velocity of the flow, the diameter of the pipe, and the pressure drop over the lenght of the pipe. For certain non-Newtonian fluids called Bingham Plastics, the friction factor, $f$, can be approximated from the solution to the nonlinear equation below where the Reynolds number, $Re$, and Hedstrom number, $He$, are dimensionless numbers related to the density, viscosity, and yield stress of the fluid, the diameter of the pipe, and the velocity of the flow.\n",
    "\n",
    "$$f = \\frac{64}{Re} \\left[ 1 + \\frac{He}{6Re} - \\frac{64}{3} \\left( \\frac{He^4}{f^3Re^7} \\right) \\right]$$\n",
    "\n",
    "Calculate the friction factor with $Re = 10.$ and $He = 1$. (hint: the friction factor will be between 1 and 100)"
   ]
  },
  {
   "cell_type": "code",
   "execution_count": null,
   "id": "ba403b49",
   "metadata": {},
   "outputs": [],
   "source": []
  },
  {
   "cell_type": "markdown",
   "id": "9e7ad66b",
   "metadata": {},
   "source": [
    "### Task 5 \n",
    "The file bassdata.csv contains data on the length in inches and weight in ounces of smallmouth bass.\n",
    "- Read in the file.\n",
    "- Plot the data and a cubic spline interpolation of the data together in one figure.\n",
    "- Explain your choice for the boundary conditions of the spline in a text cell.\n",
    "- Use your spline to estimate the weight of a 15 inch fish.\n",
    "- Use your spline to estimate the length of an 18 ounce fish."
   ]
  },
  {
   "cell_type": "code",
   "execution_count": null,
   "id": "e23e7654",
   "metadata": {},
   "outputs": [],
   "source": []
  },
  {
   "cell_type": "code",
   "execution_count": null,
   "id": "833804df",
   "metadata": {},
   "outputs": [],
   "source": []
  },
  {
   "cell_type": "markdown",
   "id": "5b58baa6",
   "metadata": {},
   "source": [
    "### Task 6 \n",
    "The file ponderosapinedata.csv contains data relating the diameter, $d$, of a ponderosa pine tree measured at breast height and the board-feet of lumber harvested from the tree,$V$, after it was felled. A relationship between these variables is useful for foresters and lumber companies to estimate how much lumber they can get from a simple measurement.\n",
    "\n",
    "- Read in the data.\n",
    "- Make a plot of the data on normal scales.\n",
    "- In a second code cell, make a plot of the data on loglog scale.\n",
    "- Find a power law relationship between the variables $V = A d^p$.\n",
    "- In a third code cell, plot the data and the regression in the same figure. Include the equation of the fit in the figure.\n",
    "- Make sure to label axes in all cases."
   ]
  },
  {
   "cell_type": "code",
   "execution_count": null,
   "id": "470028ea",
   "metadata": {},
   "outputs": [],
   "source": []
  },
  {
   "cell_type": "code",
   "execution_count": null,
   "id": "fdca06c8",
   "metadata": {},
   "outputs": [],
   "source": []
  },
  {
   "cell_type": "code",
   "execution_count": null,
   "id": "c010d79f",
   "metadata": {},
   "outputs": [],
   "source": []
  },
  {
   "cell_type": "markdown",
   "id": "66eb98d0",
   "metadata": {},
   "source": [
    "### Task 7 Save your work as both a pdf and a .ipynb file and upload to Canvas."
   ]
  }
 ],
 "metadata": {
  "kernelspec": {
   "display_name": "Python 3 (ipykernel)",
   "language": "python",
   "name": "python3"
  },
  "language_info": {
   "codemirror_mode": {
    "name": "ipython",
    "version": 3
   },
   "file_extension": ".py",
   "mimetype": "text/x-python",
   "name": "python",
   "nbconvert_exporter": "python",
   "pygments_lexer": "ipython3",
   "version": "3.9.12"
  }
 },
 "nbformat": 4,
 "nbformat_minor": 5
}
