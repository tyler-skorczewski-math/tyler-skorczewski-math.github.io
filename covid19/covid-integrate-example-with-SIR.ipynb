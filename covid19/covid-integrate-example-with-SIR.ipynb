{
 "cells": [
  {
   "cell_type": "code",
   "execution_count": 54,
   "metadata": {},
   "outputs": [],
   "source": [
    "import numpy as np\n",
    "from scipy.integrate import odeint\n",
    "import matplotlib.pyplot as plt\n",
    "%matplotlib inline"
   ]
  },
  {
   "cell_type": "code",
   "execution_count": 55,
   "metadata": {},
   "outputs": [
    {
     "data": {
      "image/png": "[encoded data removed]",
      "text/plain": [
       "<Figure size 432x288 with 1 Axes>"
      ]
     },
     "metadata": {
      "needs_background": "light"
     },
     "output_type": "display_data"
    }
   ],
   "source": [
    "alpha = 0.15\n",
    "beta = 1./14. #reciprocal of infectious period\n",
    "t = np.linspace(0,365,1001) #one year time period \n",
    "pop = 3.5e8 #population size\n",
    "med_capacity = 1.e6\n",
    "def SIRmodel(y,t):\n",
    "    S, I, R = y\n",
    "    return ([-alpha*S*I,alpha*S*I-beta*I,beta*I])\n",
    "\n",
    "def get_trajectory():\n",
    "    initinfected = 5\n",
    "    Iinit = initinfected/pop\n",
    "    Sinit = (pop - initinfected)/pop \n",
    "    Rinit = 0\n",
    "    sol = odeint(SIRmodel,[Sinit,Iinit,Rinit],t)\n",
    "    return(sol)\n",
    "\n",
    "soln = get_trajectory()\n",
    "plt.plot(t,pop*soln[:,1],'r-',[0,365],[med_capacity,med_capacity],'b:');\n",
    "#print(pop*soln[:,1])\n",
    "\n",
    "data = np.zeros((1001,4))\n",
    "data[:,0] = t\n",
    "data[:,1:4] = pop*soln\n",
    "np.savetxt('data.csv',data,delimiter=\",\")\n",
    "\n"
   ]
  },
  {
   "cell_type": "code",
   "execution_count": 56,
   "metadata": {},
   "outputs": [
    {
     "name": "stdout",
     "output_type": "stream",
     "text": [
      "We are 3805095036.363493 people*days above capacity\n"
     ]
    }
   ],
   "source": [
    "t = np.linspace(0,365,1001)\n",
    "I = pop*soln[:,1]\n",
    "h = t[1]-t[0] #mesh spacing in time\n",
    "\n",
    "#area above medical capacity line and below curve\n",
    "Iadj = I\n",
    "for i in range(0,len(I)):\n",
    "    Iadj[i] = max(I[i]-med_capacity,0)\n",
    "w = np.ones(1001)\n",
    "w[1:-1] = 2\n",
    "area = (h/2.)*np.dot(w,Iadj)\n",
    "print(\"We are {} people*days above capacity\".format(area))\n",
    "\n"
   ]
  },
  {
   "cell_type": "code",
   "execution_count": null,
   "metadata": {},
   "outputs": [],
   "source": []
  }
 ],
 "metadata": {
  "kernelspec": {
   "display_name": "Python 3",
   "language": "python",
   "name": "python3"
  },
  "language_info": {
   "codemirror_mode": {
    "name": "ipython",
    "version": 3
   },
   "file_extension": ".py",
   "mimetype": "text/x-python",
   "name": "python",
   "nbconvert_exporter": "python",
   "pygments_lexer": "ipython3",
   "version": "3.7.1"
  }
 },
 "nbformat": 4,
 "nbformat_minor": 2
}
