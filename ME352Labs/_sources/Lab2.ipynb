{
 "cells": [
  {
   "cell_type": "markdown",
   "id": "b5b202ac",
   "metadata": {},
   "source": [
    "# Lab 2. Python Basics Lab/HW\n",
    "The objectives of this activity are to show understanding of basic python programming structures including functions, loops, and if/then logic. \n",
    "Make sure to include a text cell with your name at the top."
   ]
  },
  {
   "cell_type": "code",
   "execution_count": null,
   "id": "c4e51afd",
   "metadata": {},
   "outputs": [],
   "source": [
    "import numpy as np"
   ]
  },
  {
   "cell_type": "markdown",
   "id": "b3d39c33",
   "metadata": {},
   "source": [
    "### Task 1. \n",
    "Write a function called myf that calculates the function below.\n",
    "\n",
    "$$f(x) = \\cos(3x^5) + \\sqrt{24 + 6x^2}$$"
   ]
  },
  {
   "cell_type": "code",
   "execution_count": null,
   "id": "96010281",
   "metadata": {},
   "outputs": [],
   "source": []
  },
  {
   "cell_type": "markdown",
   "id": "788e1f3f",
   "metadata": {},
   "source": [
    "### Task 1a. Evaluate your function above.\n",
    "Print the output of your function at the points listed below.\n",
    "- $x=1$\n",
    "- $x = \\pi$\n",
    "- $x = -4.2$"
   ]
  },
  {
   "cell_type": "code",
   "execution_count": null,
   "id": "5401f6d6",
   "metadata": {},
   "outputs": [],
   "source": []
  },
  {
   "cell_type": "markdown",
   "id": "b607dfc0",
   "metadata": {},
   "source": [
    "### Task 2.\n",
    "Write a function called myTaylorSine(x,n), that takes in a number $x$ and postive integer $n$, and returns the $n^{th}$ degree Taylor polynomial approximation of $\\sin(x)$ centered at 0."
   ]
  },
  {
   "cell_type": "code",
   "execution_count": null,
   "id": "255a9643",
   "metadata": {},
   "outputs": [],
   "source": [
    "#def myTaylorSine(x,n):\n",
    "   \n",
    "    "
   ]
  },
  {
   "cell_type": "markdown",
   "id": "d2de595e",
   "metadata": {},
   "source": [
    "### Task 3. \n",
    "Write a function that takes in two numbers, a float $x$ and a positive integer $N$, and returns the following product.\n",
    "\n",
    "$$ \\Pi_{i=1}^{N} (x - i) = (x-1)(x-2)\\cdot\\cdot\\cdot(x-N)$$\n",
    "\n",
    "Print the output when $x=3,N=5$ and $x=\\sqrt{3}, N=8$."
   ]
  },
  {
   "cell_type": "code",
   "execution_count": null,
   "id": "bdf1ba1a",
   "metadata": {},
   "outputs": [],
   "source": []
  },
  {
   "cell_type": "markdown",
   "id": "022dfba4",
   "metadata": {},
   "source": [
    "### Task 4. Collatz \n",
    "Write a function that takes in a positive integer $a = a_0$. Then generate a sequence of numbers using the following rules:\n",
    "\n",
    "- If $a_n$ is even, $a_{n+1} = a_n /2$.\n",
    "- If $a_n$ is odd, $a_{n+1} = 3a_n + 1$.\n",
    "\n",
    "Keep track of the number of steps you take $n$.\n",
    "Note that you do not need to explicitly keep track of the individual values of $a_n$ (You can just update the variable $a$ each time). Repeat this process until you get to a value where $a_n=1$. The function will return the value $n$.\n",
    "\n",
    "Explore your function by printing the output of some test cases."
   ]
  },
  {
   "cell_type": "code",
   "execution_count": null,
   "id": "e556328d",
   "metadata": {},
   "outputs": [],
   "source": []
  },
  {
   "cell_type": "markdown",
   "id": "6aa7baeb",
   "metadata": {},
   "source": [
    "### Task 4a. \n",
    "Think about the code you wrote above. Are there any problems with it? How might you fix them? Write your responses in a text cell below. Leave the code above alone and provide any fixes/updated code in a code cell below."
   ]
  },
  {
   "cell_type": "code",
   "execution_count": null,
   "id": "e9776518",
   "metadata": {},
   "outputs": [],
   "source": []
  },
  {
   "cell_type": "markdown",
   "id": "50f63c18",
   "metadata": {},
   "source": [
    "### Task 5. Save your work as both a pdf and ipynb file and upload to Canvas."
   ]
  }
 ],
 "metadata": {
  "kernelspec": {
   "display_name": "Python 3 (ipykernel)",
   "language": "python",
   "name": "python3"
  },
  "language_info": {
   "codemirror_mode": {
    "name": "ipython",
    "version": 3
   },
   "file_extension": ".py",
   "mimetype": "text/x-python",
   "name": "python",
   "nbconvert_exporter": "python",
   "pygments_lexer": "ipython3",
   "version": "3.9.12"
  }
 },
 "nbformat": 4,
 "nbformat_minor": 5
}
