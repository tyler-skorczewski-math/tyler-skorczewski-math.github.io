{
 "cells": [
  {
   "cell_type": "markdown",
   "id": "2690be2d",
   "metadata": {},
   "source": [
    "# Lab 8. Linear Algebra Lab/HW\n",
    "This activity will explore the code behind some linear algebra techniques and some applications using routines from python libraries. Make sure to put a text cell with your name at the top."
   ]
  },
  {
   "cell_type": "code",
   "execution_count": 2,
   "id": "c02d9c81",
   "metadata": {},
   "outputs": [],
   "source": [
    "import numpy as np\n",
    "import matplotlib.pyplot as plt\n",
    "%matplotlib inline\n",
    "\n",
    "from sympy import *"
   ]
  },
  {
   "attachments": {},
   "cell_type": "markdown",
   "id": "a7fb3438",
   "metadata": {},
   "source": [
    "### Task 1. Equilibrium\n",
    "Consider the network of springs and masses below. \n",
    "\n",
    "```{image} ./springs.jpg\n",
    ":alt: springs and masses\n",
    ":width: 200px\n",
    ":align: center\n",
    "```\n",
    "\n",
    "Assume $k = g = 9.8$ for all the springs and that the system is in equilibrium, i.e. not moving. Let $m_1 = 1, m_2=2, ... , m_5 =5$.\n",
    "\n",
    "- Set up a system of equations representing the force balance.\n",
    "- Write this system in matrix vector form.\n",
    "- Implement this matrix and vector in python.\n",
    "- Solve the system using python.\n"
   ]
  },
  {
   "cell_type": "code",
   "execution_count": null,
   "id": "ceab648e",
   "metadata": {},
   "outputs": [],
   "source": []
  },
  {
   "cell_type": "markdown",
   "id": "a51ace5b",
   "metadata": {},
   "source": [
    "### Task 2 Chemical Reaction balance\n",
    "Potassium is denoted by $K$, oxygen by $O$, phosphorus by $P$, and hydrogen by $H$. Consider the reaction given by\n",
    "\n",
    "$$KOH+H_{3}PO_{4}\\rightarrow K_{3}PO_{4}+H_{2}O.$$\n",
    "\n",
    "Balance this equation, i.e. find $x,y,z,w$ such that \n",
    "\n",
    "$$xKOH+yH_{3}PO_{4}\\rightarrow zK_{3}PO_{4}+wH_{2}O.$$\n",
    "\n",
    "Be sure to show the steps you take using python to solve this."
   ]
  },
  {
   "cell_type": "code",
   "execution_count": null,
   "id": "47692552",
   "metadata": {},
   "outputs": [],
   "source": []
  },
  {
   "cell_type": "markdown",
   "id": "9fff34fb",
   "metadata": {},
   "source": [
    "### Task 3 Tanks\n",
    "Pure water flows into a 100 gallon tank of saltwater at 5 gallons per minute. The saltwater is perfectly mixed and flows out of this tank into a second tank with volume 200 gallons at 5 gallons per minute. This saltwater is also perfectly mixed and flows out of the second tank at 5 gallons per minute. Assume there is initially 50 pounds of salt in each tank.\n",
    "\n",
    "- Set up a system of differential equations for the salt in each tank.\n",
    "- Write this system in matrix-vector form.\n",
    "- Use python to perform the calculations necessary to find the amount of salt in the second tank at time $t$.\n",
    "- Write the solution in a text cell below.\n",
    "\n",
    "\n",
    "\n"
   ]
  },
  {
   "cell_type": "code",
   "execution_count": null,
   "id": "c978053e",
   "metadata": {},
   "outputs": [],
   "source": []
  },
  {
   "cell_type": "markdown",
   "id": "cb067459",
   "metadata": {},
   "source": [
    "### Last Task - Save your work as both a pdf and a ipynb file and upload to Canvas.\n",
    "Files not saved as pdfs or incorrectly uploaded files will not earn any points. You can double-check your submissions."
   ]
  }
 ],
 "metadata": {
  "kernelspec": {
   "display_name": "Python 3 (ipykernel)",
   "language": "python",
   "name": "python3"
  },
  "language_info": {
   "codemirror_mode": {
    "name": "ipython",
    "version": 3
   },
   "file_extension": ".py",
   "mimetype": "text/x-python",
   "name": "python",
   "nbconvert_exporter": "python",
   "pygments_lexer": "ipython3",
   "version": "3.9.12"
  }
 },
 "nbformat": 4,
 "nbformat_minor": 5
}
