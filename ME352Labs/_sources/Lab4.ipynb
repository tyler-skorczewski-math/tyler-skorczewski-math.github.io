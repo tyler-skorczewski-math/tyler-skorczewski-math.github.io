{
 "cells": [
  {
   "cell_type": "markdown",
   "id": "2690be2d",
   "metadata": {},
   "source": [
    "# Lab 4. Root Finding Lab/HW\n",
    "This activity will explore the code behind some basic equation solving techniques and some applications using solvers from python libraries. Make sure to put a text cell with your name at the top."
   ]
  },
  {
   "cell_type": "code",
   "execution_count": 1,
   "id": "c02d9c81",
   "metadata": {},
   "outputs": [],
   "source": [
    "import numpy as np\n",
    "import matplotlib.pyplot as plt\n",
    "%matplotlib inline"
   ]
  },
  {
   "cell_type": "markdown",
   "id": "da787da1",
   "metadata": {},
   "source": [
    "### Task 1. Bisection method\n",
    "Use the bisection method to solve the equation $\\displaystyle x^3 - 3 = 0$ to a tolerance of $10^{-8}$ with initial bracket $[0,2]$. Report the solution and the number of steps taken."
   ]
  },
  {
   "cell_type": "code",
   "execution_count": null,
   "id": "859b2adc",
   "metadata": {},
   "outputs": [],
   "source": []
  },
  {
   "cell_type": "markdown",
   "id": "a7fb3438",
   "metadata": {},
   "source": [
    "### Task 2. Newton's method\n",
    "Use the Newton's method to solve the equation $\\displaystyle x^3 - 3 = 0$ to a tolerance of $10^{-8}$ with initial guess $x_0 = 2$. Report the solution and the number of steps taken. Compare to your response above."
   ]
  },
  {
   "cell_type": "code",
   "execution_count": null,
   "id": "ceab648e",
   "metadata": {},
   "outputs": [],
   "source": []
  },
  {
   "cell_type": "markdown",
   "id": "6d8d3f61",
   "metadata": {},
   "source": [
    "### Task 3. More Newton's method \n",
    "Try to use Newton's method to find a root of $f(x)=x^3−2x+2$ with $x_0 = 0$. Explain your results."
   ]
  },
  {
   "cell_type": "code",
   "execution_count": null,
   "id": "380b0012",
   "metadata": {},
   "outputs": [],
   "source": []
  },
  {
   "cell_type": "markdown",
   "id": "cff66115",
   "metadata": {},
   "source": [
    "### Task 4. More Newton's method failing via finding wrong root\n",
    "Consider trying to find a root of the function $f(x) = \\sin(3.4 x - 1.234)$. You know a root exists between 0.5 and 1.5 and this one is the one of interest for a specific problem. Use Newton's method to solve this problem with an initial guess $x_0 = 0.9$. Report the result and explain what is happening."
   ]
  },
  {
   "cell_type": "code",
   "execution_count": null,
   "id": "8c9179ee",
   "metadata": {},
   "outputs": [],
   "source": []
  },
  {
   "cell_type": "markdown",
   "id": "849b29de",
   "metadata": {},
   "source": [
    "### Task 5. Rocket\n",
    "A rocket initially at rest relative to a spacestation is undergoing a docking manuver. The rockets main engines provide a thrust (acceleration) of $\\displaystyle a(t) = \\frac{t}{1 + t^2}$ over time $t$ (in seconds). The retrorockets provide a thrust in the opposite direction of $\\displaystyle a(t) = t/2$. How long should the manuver last if the rocket is to be at rest again when the manuver is finished? Set up an equation that can be used to determine this time. This equation will not be solveable algebraically so you will need to use numerical methods.\n",
    "\n",
    "A good all-purpose solver function can be found in the scipy library and is called fsolve. To use this function we need to import it with\n",
    ">from scipy.optimize import fsolve\n",
    "\n",
    "You can look up the [documentation](https://docs.scipy.org/doc/scipy/reference/generated/scipy.optimize.fsolve.html) for fsolve to see how to use it. It is similar to the root finding routines we've built in class.\n",
    "\n",
    "To do:\n",
    "- Use a code cell to graph each acceleration function in one figure. Make sure to label axes and use a legend.\n",
    "- Write a text cell that shows how you got your equation. \n",
    "- Then in a code cell below import fsolve and use it to solve your equation."
   ]
  },
  {
   "cell_type": "code",
   "execution_count": null,
   "id": "88b51253",
   "metadata": {},
   "outputs": [],
   "source": []
  },
  {
   "cell_type": "markdown",
   "id": "13ab99d2",
   "metadata": {},
   "source": [
    "### Task 6 Rheology\n",
    "A Herschel-Bulkley material is something that has a resistance to small shear-stress like a solid, but then flows like a fluid when a large shear-stress is applied. One example is toothpaste or oobleck. Your instructor's first encounter with these equations came when modeling baby poop in the context of designing Huggies diapers. Many non-Newtonian fluids are modeled using Herschel-Bulkley equations, but these aren't the only model around. For the HB equations, the relationship between shear rate $\\dot{\\gamma}$ and shear stress $\\tau$ is given by\n",
    "\n",
    "\\begin{align*}\n",
    "\\dot{\\gamma} &=0 & \\mbox{ if } \\tau < \\tau_0, \\\\\n",
    "\\tau &= \\tau_0 + k \\dot{\\gamma}^n & \\mbox{ if } \\tau \\geq \\tau_0.\n",
    "\\end{align*}\n",
    "\n",
    "Is such a material is flowing through a pipe, it is important to know the pressure drop required to drive such a flow. The pressure drop, $\\Delta P$, can be found with the equation\n",
    "\n",
    "$$\\frac{\\Delta P}{L} = \\frac{4k}{D}\\left( \\frac{8V}{D}\\right)^n\\left(\\frac{3n+1}{4n}\\right)^n\\frac{1}{1-X}\\left( \\frac{1}{1-aX-bX^2-cX^3}\\right)^n,$$\n",
    "\n",
    "where,\n",
    "\n",
    "\\begin{align*} X &= \\frac{4L\\tau}{D\\Delta P}\\\\\n",
    "a &= \\frac{1}{2n+1} \\\\\n",
    "b &= \\frac{2n}{(n+1)(2n+1)} \\\\\n",
    "c &= \\frac{2n^2}{(n+1)(2n+1)}.\n",
    "\\end{align*}\n",
    "\n",
    "In these equations $L$ is the length of the pipe, $D$ is the diameter, $k$ is the consistency coefficient of the material, $\\tau$ is the wall shear stress, and $n$ is the parameter describing the nature of the material. This equation needs to be solved numerically for $\\Delta P$. \n",
    "\n",
    "- Use fsolve from the scipy library.\n",
    "- Set up and solve the equation above to salculate the pressure drop required to drive a flow of HB material through a pipe with length 0.5 meters, diameter (0.1 meter), with $V=0.01$, $k = \\tau = 1$ and $n=0.7$. \n",
    "- Note in your function definition it is helpful to leave the $X, a,b,c$ definitions as written above and then use them."
   ]
  },
  {
   "cell_type": "code",
   "execution_count": 21,
   "id": "e0f2f02a",
   "metadata": {},
   "outputs": [],
   "source": []
  },
  {
   "cell_type": "code",
   "execution_count": null,
   "id": "0a548313",
   "metadata": {},
   "outputs": [],
   "source": []
  },
  {
   "cell_type": "markdown",
   "id": "130acfc8",
   "metadata": {},
   "source": [
    "### Task 7.\n",
    "Many equations of state in chemistry and physics have been developed to describe the relationship between the pressure, volume, and temperature of gases. One such equation is the Beattie-Bridgeman equation,\n",
    "\n",
    "$$P = \\frac{RT}{V} + \\frac{\\beta}{V^2} + \\frac{\\gamma}{V^3} + \\frac{\\delta}{V^4},$$\n",
    "\n",
    "where $P$ is pressure, $V$ is molar volume, $T$ is temperature, $R$ is the ideal gas constant.\n",
    "The second, third, and fourth terms in the equation above may be viewed as corrections to the ideal gas law $\\displaystyle PV = RT$. The parameters $\\beta, \\gamma,$ and $\\delta$ are defined as\n",
    "\n",
    "$$\\beta = RTB_0 - A_0 - \\frac{Rc}{T^2},$$\n",
    "$$\\gamma = -RT B_0 b + A_0 a - \\frac{RcB_0}{T^2},$$\n",
    "$$\\delta = \\frac{RB_0bc}{T^2}.$$\n",
    "\n",
    "$A_0,B_0,a,b,$ and $c$ are constants that vary from gas to gas. In this exercise we will find the volumes that correspond to certain pressures and temperature for methane. \n",
    "\n",
    "Complete the tasks below.\n",
    "- Write a code cell that uses fsolve to solve the Beattie-Bridgeman equation for volume given the pressure and temperature. The values of the constants are $A_0=2.2769, B_0=0.05587, a=0.01855, b=0.01587, c=12.83\\times10^4, R = 8.2057366\\times10^{-5}.$\n",
    "- For temperature of 200 degrees, calculate the volumes for pressures from 1 to 200 atm. (Note you can make an array of pressures and pass this array into your function.)\n",
    "- Make a plot of volumes versus pressures. Make sure to label your axes."
   ]
  },
  {
   "cell_type": "code",
   "execution_count": null,
   "id": "e14517d6",
   "metadata": {},
   "outputs": [],
   "source": []
  },
  {
   "cell_type": "markdown",
   "id": "cb067459",
   "metadata": {},
   "source": [
    "### Task 8 - Save your work as both a pdf and a ipynb file and upload to Canvas."
   ]
  }
 ],
 "metadata": {
  "kernelspec": {
   "display_name": "Python 3 (ipykernel)",
   "language": "python",
   "name": "python3"
  },
  "language_info": {
   "codemirror_mode": {
    "name": "ipython",
    "version": 3
   },
   "file_extension": ".py",
   "mimetype": "text/x-python",
   "name": "python",
   "nbconvert_exporter": "python",
   "pygments_lexer": "ipython3",
   "version": "3.9.12"
  }
 },
 "nbformat": 4,
 "nbformat_minor": 5
}
