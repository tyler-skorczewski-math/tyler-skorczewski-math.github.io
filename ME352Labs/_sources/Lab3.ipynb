{
 "cells": [
  {
   "cell_type": "markdown",
   "id": "8c9f7b35",
   "metadata": {},
   "source": [
    "# Lab 3. Numpy arrays and plotting Lab/HW\n",
    "The objective here are to understand how to work with numpy arrays and make plots using numpy and matplotlib. Make sure to include a text cell with your name at the top."
   ]
  },
  {
   "cell_type": "code",
   "execution_count": 1,
   "id": "87ef63c3",
   "metadata": {},
   "outputs": [],
   "source": [
    "import numpy as np\n",
    "import matplotlib.pyplot as plt\n",
    "%matplotlib inline"
   ]
  },
  {
   "cell_type": "markdown",
   "id": "b88dbf02",
   "metadata": {},
   "source": [
    "### Task 1.\n",
    "- Use the numpy [linspace](https://numpy.org/doc/stable/reference/generated/numpy.linspace.html) function to create a numpy array with values from 5 to 15 using 11 elements. Assign this array to variable v.\n",
    "- Print the 4th through 8th elements of v.\n",
    "- Print the odd-indexed elements."
   ]
  },
  {
   "cell_type": "code",
   "execution_count": null,
   "id": "8bc8dbd9",
   "metadata": {},
   "outputs": [],
   "source": []
  },
  {
   "cell_type": "markdown",
   "id": "236d3e6a",
   "metadata": {},
   "source": [
    "### Task 2.\n",
    "- Let array_a be a numpy array [-1, 0, 1, 2, 0, 3]. Write a command that will return an array consisting of all the elements of array_a that are larger than zero. Hint: Use logical expression as the index of the array.\n",
    "- Use the [zeros](https://numpy.org/doc/stable/reference/generated/numpy.zeros.html) function to create a $2\\times 3$ matrix of zeros. Print this matrix.\n",
    "- Let array_a be a numpy array [-1, 0, 1, 2, 0, 3] and array_b be a numpy array [5,4,3,2,1,0]. \n",
    " - Print the sum of the two arrays.\n",
    " - Print 1 + array_b"
   ]
  },
  {
   "cell_type": "code",
   "execution_count": null,
   "id": "8ba9ea90",
   "metadata": {},
   "outputs": [],
   "source": []
  },
  {
   "cell_type": "markdown",
   "id": "c8bb7ada",
   "metadata": {},
   "source": [
    "### Task 3.\n",
    "One task we often want to accoplish with arrays is looping over the elements to do something. Note that arrays are indexed starting at zero, so the first element of an array a is called a[0], not a[1].\n",
    "\n",
    "Consider a simple array \n",
    "> ps = np.array([1.1,2.2,3.3,4.4]\n",
    "\n",
    "Write a for loop that loops over the array and accesses the array by index \n",
    ">for i in range(0,len(ps)). \n",
    "\n",
    "Inside the loop plot the function $y = x^p$, $x \\in [0,1]$ where $p$ is the element of array ps. Note \n",
    ">len(ps) \n",
    "\n",
    "is a function that returns the length of the array ps.\n"
   ]
  },
  {
   "cell_type": "code",
   "execution_count": null,
   "id": "928703b4",
   "metadata": {},
   "outputs": [],
   "source": []
  },
  {
   "cell_type": "markdown",
   "id": "09d4feff",
   "metadata": {},
   "source": [
    "### Task 4.\n",
    "Note we don't have to loop over integers in the index of an array. We can also loop over the elements directly with a for loop code like\n",
    ">for p in ps:\n",
    "\n",
    "This lets us directly get at the elements of ps without needing a line of code like\n",
    ">p = ps[i].\n",
    "\n",
    "Rewrite your task above and show you get the same output. \n"
   ]
  },
  {
   "cell_type": "code",
   "execution_count": null,
   "id": "9c430c0f",
   "metadata": {},
   "outputs": [],
   "source": []
  },
  {
   "cell_type": "markdown",
   "id": "2d452a16",
   "metadata": {},
   "source": [
    "### Task 5.\n",
    "Sometimes we need to add on to an array during our code because we don't know how long it will be at the start. We can do this with the [append](https://numpy.org/doc/stable/reference/generated/numpy.append.html#numpy.append) command.\n",
    "\n",
    "Make a simple array\n",
    "> arr = np.array([2,4,6,8])\n",
    "\n",
    "Print the array\n",
    "> print(arr)\n",
    "\n",
    "Append the number 10 to this array using append and print the output.\n"
   ]
  },
  {
   "cell_type": "code",
   "execution_count": null,
   "id": "39a355fc",
   "metadata": {},
   "outputs": [],
   "source": []
  },
  {
   "cell_type": "markdown",
   "id": "77e08222",
   "metadata": {},
   "source": [
    "### Task 6.\n",
    "- Make an array called x that uses the linspace command to make an array from 0 to 10.\n",
    "- Let $\\displaystyle y = \\frac{15}{3 + x}$.\n",
    "- Make a plot of the function that uses a red line. Make sure to label axes. "
   ]
  },
  {
   "cell_type": "markdown",
   "id": "0758ed0a",
   "metadata": {},
   "source": [
    "### Task 7. \n",
    "- Make an array called x that uses the linspace command to make an array from $-\\pi/2$ to $\\pi/2$ with 10 elements.\n",
    "- Plot $\\cos(x)$, $\\sin(x)$, and $\\tan(x)$ in one figure.\n",
    "  - Use a red line for $\\cos(x)$, a green line for $\\sin(x)$, and a black line for $\\tan(x)$.\n",
    "  - Use diamonds for $\\cos(x)$, triangles for $\\sin(x)$, and circles for $\\tan(x)$.\n",
    "  - Label axes and show a legend in your figure."
   ]
  },
  {
   "cell_type": "markdown",
   "id": "1e1a2e8c",
   "metadata": {},
   "source": [
    "### Task 8.\n",
    "We can make parametric plots easily using python. We just need an array to keep track of the parameter and then make arrays for the dependent variables, like $x$ and $y$. Then just plot $x$ versus $y$. \n",
    "\n",
    "One example where we might want to plot something using parameteric equations is in the design of a [Wankel](https://mechdrafting.net/en/portfolio-item/peritrochoid-curve) engine. In such engines a rotor moves through a housing rotating entirely in one direction, as opposed to having pistons moving up and down like in conventional engines.\n",
    "\n",
    "The rotor housing can be generated with a peritrochoid curve given parametrically by\n",
    "\n",
    "$$x(t) = \\epsilon \\cos(t) + R\\cos\\left(\\frac{t}{3} \\right)$$\n",
    "$$y(t) = \\epsilon \\sin(t) + R\\sin\\left(\\frac{t}{3} \\right)$$\n",
    "$$0 \\leq t \\leq 6\\pi.$$\n",
    "\n",
    "Make a plot of the housing for $R=2$ and $\\epsilon = 0.5$. You should let $R$ and $\\epsilon$ be variables in the code and assign them before you make $x$ and $y$ so R=2 appears in one line then x and y depend on R, not 2. Then to change the plot, just change the $R$ and $\\epsilon$ assignment lines of code. "
   ]
  },
  {
   "cell_type": "code",
   "execution_count": null,
   "id": "762faf68",
   "metadata": {},
   "outputs": [],
   "source": []
  },
  {
   "cell_type": "code",
   "execution_count": null,
   "id": "30c5f7f3",
   "metadata": {},
   "outputs": [],
   "source": []
  },
  {
   "cell_type": "markdown",
   "id": "282e1880",
   "metadata": {},
   "source": [
    "### Task 9. Save your notebook as both a pdf and a ipynb file and upload to Canvas."
   ]
  }
 ],
 "metadata": {
  "kernelspec": {
   "display_name": "Python 3 (ipykernel)",
   "language": "python",
   "name": "python3"
  },
  "language_info": {
   "codemirror_mode": {
    "name": "ipython",
    "version": 3
   },
   "file_extension": ".py",
   "mimetype": "text/x-python",
   "name": "python",
   "nbconvert_exporter": "python",
   "pygments_lexer": "ipython3",
   "version": "3.9.12"
  }
 },
 "nbformat": 4,
 "nbformat_minor": 5
}
