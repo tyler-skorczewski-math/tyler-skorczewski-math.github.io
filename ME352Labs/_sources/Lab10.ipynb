{
 "cells": [
  {
   "cell_type": "markdown",
   "id": "2690be2d",
   "metadata": {},
   "source": [
    "# Lab 10. IVP Lab/HW\n",
    "This activity will explore the code behind some numerical techniques for initial value problems and some applications using routines from python libraries. Make sure to put a text cell with your name at the top.\n",
    "\n",
    "In all of the tasks below. Make sure to use figures and text cells to explain what you are doing. Comments in code are useful to describe your code, but not a replacement for other explanation. Submissions with just code and results will not earn marks higher than a C."
   ]
  },
  {
   "cell_type": "code",
   "execution_count": null,
   "id": "c02d9c81",
   "metadata": {},
   "outputs": [],
   "source": []
  },
  {
   "cell_type": "markdown",
   "id": "a7fb3438",
   "metadata": {},
   "source": [
    "### Task 1. Frozen pipes\n",
    "\n",
    "Consider the pipes in a house. If the pipes freeze they are prone to rupture and be the cause of a lot of damage. For this exercise imagine a house kept at 70 degrees where the furnace breaks at midnight and the temperature in the house is governed by Newton's Law of Cooling.\n",
    "\n",
    "$$\\frac{dT}{dt} = k(A(t)-T)$$\n",
    "\n",
    "In this equation $T$ is the temperature, $t$ is time (in hours past midnight), and $A(t)$ is the ambient temperature. The parameter $k$ can be interpreted as an insulation constant. Smaller values of $k$ indicated better insulation. Let $k=0.1$ hr$^{-1}$ and let \n",
    "\n",
    "$$A(t) = 20 + 10\\sin(\\pi (t-3)/12).$$\n",
    "\n",
    "Estimate the first time the temperature drops below 32 degrees.\n"
   ]
  },
  {
   "cell_type": "code",
   "execution_count": null,
   "id": "47692552",
   "metadata": {},
   "outputs": [],
   "source": []
  },
  {
   "cell_type": "markdown",
   "id": "feb53066",
   "metadata": {},
   "source": [
    "### Task 2. Repeat.\n",
    "Repeat the task above, but instead of a nice easy to define function for temperature assume that we have the data shown below.\n",
    "\n",
    " |t|0.|  3.|  6.|  9.| 12.| 15.| 18.| 21.| 24.| 27.| 30.| 33.| 36.|\n",
    " |---|---|---|---|---|---|---|---|---|---|---|---|---|---|\n",
    " |A(t)|-2.07|  5.62| 13.32| 16.87| 14.57|  8.12| 1.67| -0.62|  2.92| 10.62| 18.32| 21.87| 19.57|\n",
    " \n",
    " Plot the data and an interpolating function (choose one and explain your choice). Then use this interpolating function to build the RHS of the NLoC differential equation. Solve this DE numerically and report the first time the temperature drops below 32 degrees."
   ]
  },
  {
   "cell_type": "code",
   "execution_count": null,
   "id": "c978053e",
   "metadata": {},
   "outputs": [],
   "source": []
  },
  {
   "cell_type": "markdown",
   "id": "cb067459",
   "metadata": {},
   "source": [
    "### Last Task - Save your work as both a pdf and a ipynb file and upload to Canvas.\n",
    "Files not saved as pdfs or incorrectly uploaded files will not earn any points. You can double-check your submissions."
   ]
  },
  {
   "cell_type": "code",
   "execution_count": null,
   "id": "8502c7e1",
   "metadata": {},
   "outputs": [],
   "source": []
  }
 ],
 "metadata": {
  "kernelspec": {
   "display_name": "Python 3 (ipykernel)",
   "language": "python",
   "name": "python3"
  },
  "language_info": {
   "codemirror_mode": {
    "name": "ipython",
    "version": 3
   },
   "file_extension": ".py",
   "mimetype": "text/x-python",
   "name": "python",
   "nbconvert_exporter": "python",
   "pygments_lexer": "ipython3",
   "version": "3.9.12"
  }
 },
 "nbformat": 4,
 "nbformat_minor": 5
}
