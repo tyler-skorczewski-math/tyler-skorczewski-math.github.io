{
 "cells": [
  {
   "cell_type": "markdown",
   "id": "2690be2d",
   "metadata": {},
   "source": [
    "# Lab 7. Nonlinear Regression Lab/HW\n",
    "This activity will explore the code behind some nonlinear regression techniques and some applications using routines from python libraries. Make sure to put a text cell with your name at the top."
   ]
  },
  {
   "cell_type": "code",
   "execution_count": 2,
   "id": "c02d9c81",
   "metadata": {},
   "outputs": [],
   "source": [
    "import numpy as np\n",
    "import matplotlib.pyplot as plt\n",
    "%matplotlib inline"
   ]
  },
  {
   "cell_type": "markdown",
   "id": "da787da1",
   "metadata": {},
   "source": [
    "### Task 1. import curve_fit\n",
    "Import the curve_fit command.\n"
   ]
  },
  {
   "cell_type": "code",
   "execution_count": null,
   "id": "859b2adc",
   "metadata": {},
   "outputs": [],
   "source": []
  },
  {
   "cell_type": "markdown",
   "id": "a7fb3438",
   "metadata": {},
   "source": [
    "### Task 2. time and temperature\n",
    "The data file time_temp_data.csv contains temperature data in degrees Celcius for four days recorded every hour. \n",
    "\n",
    "- Download this file to your working directory for this homework.\n",
    "- Load the file into a numpy array using the [loadtxt](https://numpy.org/doc/stable/reference/generated/numpy.loadtxt.html) command in the numpy library. \n",
    "- Plot the data. Make sure to label axes.\n",
    "- Describe the pattern of the data in a text cell.\n",
    "- Come up with a functional relationship that describes the temperature as a function of time that uses a trigonometric function. You'll need at least three parameters.\n",
    "- Use a text cell to describe and justify your initial guesses for these parameter values. \n",
    "- Use the scipy curve_fit function to get parameter values.\n",
    "- Plot your fit curve and the data together.\n"
   ]
  },
  {
   "cell_type": "code",
   "execution_count": null,
   "id": "ceab648e",
   "metadata": {},
   "outputs": [],
   "source": []
  },
  {
   "cell_type": "markdown",
   "id": "a51ace5b",
   "metadata": {},
   "source": [
    "### Ag data\n",
    "Below are data that show how farm yields of corn crops in bushels per acre ($Y$) change with the amount of applied nitrogen ($N$).\n",
    "\n",
    "- Plot the data.\n",
    "- Use the curve fit function to fit a function in the form $Y = \\frac{A N}{B + N}$.\n",
    " - Describe what the parameters $A$ and $B$ are here and include their units.\n",
    "- Use the curve fit function to fit a function in the form $Y = \\frac{A}{1 + Be^{-CN}}$.\n",
    " - Describe what the parameters $A,B$ and $C$ are here and include their units."
   ]
  },
  {
   "cell_type": "code",
   "execution_count": 5,
   "id": "43826e90",
   "metadata": {},
   "outputs": [],
   "source": [
    "appNdata = np.linspace(0.,220.,12)\n",
    "Ydata = np.array([19.3,40.1,61.7,55.8,82.4,90.8,89.2,86.9,98.6,109.4,90.5,99.7])\n",
    "\n"
   ]
  },
  {
   "cell_type": "markdown",
   "id": "cb067459",
   "metadata": {},
   "source": [
    "### Last Task - Save your work as both a pdf and a ipynb file and upload to Canvas.\n",
    "Files not saved as pdfs or incorrectly uploaded files will not earn any points. You can double-check your submissions."
   ]
  }
 ],
 "metadata": {
  "kernelspec": {
   "display_name": "Python 3 (ipykernel)",
   "language": "python",
   "name": "python3"
  },
  "language_info": {
   "codemirror_mode": {
    "name": "ipython",
    "version": 3
   },
   "file_extension": ".py",
   "mimetype": "text/x-python",
   "name": "python",
   "nbconvert_exporter": "python",
   "pygments_lexer": "ipython3",
   "version": "3.9.12"
  }
 },
 "nbformat": 4,
 "nbformat_minor": 5
}
