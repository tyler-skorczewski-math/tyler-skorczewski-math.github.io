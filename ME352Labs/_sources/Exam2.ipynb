{
 "cells": [
  {
   "cell_type": "markdown",
   "id": "1ea56cf9",
   "metadata": {},
   "source": [
    "# ME 352 Exam 2\n",
    "This notebook contains the tasks for exam 2 of ME352. You may use your own notes and previous jupyter notebooks from the course. You may also use the internet for python, numpy, scipy function documentation. You may not use the internet to look up answers/solutions for the tasks below.\n",
    "\n",
    "Make sure to add a text cell with your name above this cell."
   ]
  },
  {
   "cell_type": "markdown",
   "id": "0e4af394",
   "metadata": {},
   "source": [
    "### Task 1 (5 points)\n",
    "Import any libraries you'll be using in the code cell below."
   ]
  },
  {
   "cell_type": "code",
   "execution_count": null,
   "id": "6975212a",
   "metadata": {},
   "outputs": [],
   "source": []
  },
  {
   "cell_type": "markdown",
   "id": "ce3c8b87",
   "metadata": {},
   "source": [
    "### Task 2 (25 points)\n",
    "The downtime for a manufacturing machine is shown below. The horizontal axis represents the length of the downtime, and the vertical axis represents the relative frequency (or how often) the machine has a downtime that long.\n",
    "\n",
    "Industrial engineers want to fit this data with a function in the form\n",
    "$$f(t) = \\frac{1}{t\\sigma\\sqrt{2\\pi}}e^{-\\frac{(\\ln(t) - \\mu)^2}{2\\sigma^2}}.$$\n",
    "\n",
    "- Use the curve_fit function from scipy to determine the values of small, positive parameters $\\sigma$ and $\\mu$.\n",
    "- Plot the data and the fit curve in one figure. "
   ]
  },
  {
   "cell_type": "code",
   "execution_count": 25,
   "id": "3db19cc5",
   "metadata": {},
   "outputs": [
    {
     "name": "stdout",
     "output_type": "stream",
     "text": [
      "[0.24737228 0.49666082]\n"
     ]
    },
    {
     "data": {
      "image/png": "[encoded data removed]",
      "text/plain": [
       "<Figure size 432x288 with 1 Axes>"
      ]
     },
     "metadata": {
      "needs_background": "light"
     },
     "output_type": "display_data"
    }
   ],
   "source": [
    "ts = np.array([0.1,0.42, 0.75, 1.1, 1.4, 1.7, 2.0, 2.35, 2.67, 3.])\n",
    "fs = np.array([1.75e-05, 1.6e-01, 5.9e-01, 7.0e-01, 5.7e-01, 3.95e-01, 2.6e-01, 1.6e-01, 1.0e-01, 6.3e-02])\n",
    "plt.plot(ts,fs,'kd');\n",
    "\n",
    "### delete below for exam\n",
    "\n",
    "from scipy.optimize import curve_fit\n",
    "\n",
    "def func(t,m,s):\n",
    "    output=(1./(t*s*np.sqrt(2.*np.pi)))*np.exp(-(np.log(t)-m)**2/(2.*s**2))\n",
    "    return(output)\n",
    "\n",
    "popt, pcov = curve_fit(func,ts,fs,(0.1,0.1))\n",
    "print(popt)"
   ]
  },
  {
   "cell_type": "code",
   "execution_count": null,
   "id": "eacf990c",
   "metadata": {},
   "outputs": [],
   "source": []
  },
  {
   "cell_type": "markdown",
   "id": "625df62e",
   "metadata": {},
   "source": [
    "### Task 3 (20 points)\n",
    "\n",
    "Use linear algebra ideas and routines to setup equations and balance the chemical reaction below.\n",
    "\n",
    "$$Fe_2(SO_4)_3 + KOH \\longrightarrow K_2SO_4 + Fe(OH)_3$$\n",
    "\n"
   ]
  },
  {
   "cell_type": "code",
   "execution_count": null,
   "id": "844c8d65",
   "metadata": {},
   "outputs": [],
   "source": []
  },
  {
   "cell_type": "code",
   "execution_count": null,
   "id": "e5aa99da",
   "metadata": {},
   "outputs": [],
   "source": []
  },
  {
   "cell_type": "markdown",
   "id": "b3b39d2b",
   "metadata": {},
   "source": [
    "### Task 4 (25 points)\n",
    "\n",
    "A particle of mass $m$ moving through a fluid of subject to a viscous resistance $R$, which is a function of the velocity $v$. The relationship between the resistance $R$, velocity $v$, and time $t$ is given by the equation\n",
    "\n",
    "$$t = \\int_{v(t_0)}^{v(t)} \\frac{m}{R(v)}~dv.$$\n",
    "\n",
    "Suppose that $R(v)=-v\\sqrt(v) = -v^{3/2}$ for a particular fluid, where $R$ is in newtons and $v$ is in meters per second. If $m=10$ kg and $v(t_0) = 10$ m/s, use the trapezoid rule to calculate to within a tolerance of 0.01 seconds the time to slow $v=5$ m/s, i.e. use the trapezoid rule to approximate\n",
    "\n",
    "$$t = \\int_{5}^{10} \\frac{10}{v^{3/2}}~dv.$$\n",
    "\n",
    "- (18 points) Use the trapezoid rule to approximate the integral to within 0.01 seconds.\n",
    "- (7 points) Show the work required to do this in the minimum number of intervals. (You can turn this in on paper.)\n",
    "\n",
    "\n",
    "\n"
   ]
  },
  {
   "cell_type": "code",
   "execution_count": null,
   "id": "ba403b49",
   "metadata": {},
   "outputs": [],
   "source": []
  },
  {
   "cell_type": "markdown",
   "id": "9e7ad66b",
   "metadata": {},
   "source": [
    "### Task 5 (25 points)\n",
    "Consider the chemical reaction below where molecules of chemicals $A$ and $B$ react to make $X$. \n",
    "$$ A + B \\longrightarrow X $$\n",
    "If $a$ and $b$ are the starting amounts of the reagents and $x$ is the amount of product $X$, then using the law of mass action we can write the equation for the rate of the reaction as \n",
    "$$\\frac{dx}{dt} = k(a-x)(b-x).$$\n",
    "\n",
    "Let $k=1, a=10$, and $b=15$. Assume there is no amount of chemical $X$ initially. \n",
    "\n",
    "- Use solve_ivp to find the amount of chemical $X$ as function of time for $0 \\leq t \\leq 10$ hours. \n",
    "- Plot your numerical solution. Make sure to add axes labels.\n",
    "- (+10 extra credit points) Calculate the exact solution to this IVP and include it to your plot. (You should only consider this part after you've worked the rest of the tasks.)"
   ]
  },
  {
   "cell_type": "code",
   "execution_count": null,
   "id": "e23e7654",
   "metadata": {},
   "outputs": [],
   "source": []
  },
  {
   "cell_type": "code",
   "execution_count": null,
   "id": "833804df",
   "metadata": {},
   "outputs": [],
   "source": []
  },
  {
   "cell_type": "markdown",
   "id": "5b58baa6",
   "metadata": {},
   "source": [
    "### Task 6 (25 points)\n",
    "Consider shooting an arrow at a target. Let $(x(t),y(t))$ denote the coordinates of the tip of the arrow at time $t$. Assume the arrow starts at height 4.5 feet and we are trying to hit a target 50 feet away whose bullseye is 1.75 feet high. Gravity acts on the arrow as does drag (or air resistance). Due to the complicated shape of the arrow, drag acts as a force opposing the motion of the arrow with a form given by\n",
    "$$\\vec{F}_{drag} = 0.002\\vec{v}|\\vec{v}|^{0.71}.$$\n",
    "\n",
    "The bow shoots with initial arrow speed of 320 feet per second. Find the initial angle of elevation required to hit the bullseye.\n",
    "\n"
   ]
  },
  {
   "cell_type": "code",
   "execution_count": null,
   "id": "470028ea",
   "metadata": {},
   "outputs": [],
   "source": []
  },
  {
   "cell_type": "code",
   "execution_count": null,
   "id": "fdca06c8",
   "metadata": {},
   "outputs": [],
   "source": []
  },
  {
   "cell_type": "code",
   "execution_count": null,
   "id": "c010d79f",
   "metadata": {},
   "outputs": [],
   "source": []
  },
  {
   "cell_type": "markdown",
   "id": "66eb98d0",
   "metadata": {},
   "source": [
    "### Task 7 Save your work as both a pdf and a .ipynb file and upload to Canvas."
   ]
  }
 ],
 "metadata": {
  "kernelspec": {
   "display_name": "Python 3 (ipykernel)",
   "language": "python",
   "name": "python3"
  },
  "language_info": {
   "codemirror_mode": {
    "name": "ipython",
    "version": 3
   },
   "file_extension": ".py",
   "mimetype": "text/x-python",
   "name": "python",
   "nbconvert_exporter": "python",
   "pygments_lexer": "ipython3",
   "version": "3.9.12"
  }
 },
 "nbformat": 4,
 "nbformat_minor": 5
}
