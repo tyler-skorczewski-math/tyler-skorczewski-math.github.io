{
 "cells": [
  {
   "cell_type": "markdown",
   "id": "2690be2d",
   "metadata": {},
   "source": [
    "# Lab 9. Numerical Integration Lab/HW\n",
    "This activity will explore the code behind some numerical integration techniques and some applications using routines from python libraries. Make sure to put a text cell with your name at the top."
   ]
  },
  {
   "cell_type": "code",
   "execution_count": 2,
   "id": "c02d9c81",
   "metadata": {},
   "outputs": [],
   "source": [
    "import numpy as np\n",
    "import matplotlib.pyplot as plt\n",
    "%matplotlib inline\n"
   ]
  },
  {
   "cell_type": "markdown",
   "id": "a7fb3438",
   "metadata": {},
   "source": [
    "### Task 1. Ellipse\n",
    "\n",
    "Find the length of an ellipse with equation $4x^2 + 36y^2 = 1$ to within $10^{-4}$.\n",
    "\n",
    "- Use the trapezoid rule for any integral calculations.\n",
    "- Make sure to determine how many intervals you need. Describe your approach in a text cell along with any code cells you use for computations.\n"
   ]
  },
  {
   "cell_type": "code",
   "execution_count": null,
   "id": "ceab648e",
   "metadata": {},
   "outputs": [],
   "source": []
  },
  {
   "cell_type": "markdown",
   "id": "a51ace5b",
   "metadata": {},
   "source": [
    "### Task 2. Race track\n",
    "A car laps a race track in 84 seconds. The speed of the car at each 6-second interval is determined using a radar gun and is given from the beginning of the lap, in feet per second, by the entries in the following table.\n",
    "\n",
    "| Time  | 0   | 6   | 12  | 18  | 24  | 30  | 36  | 42  | 48 | 54 | 60 | 66 | 72  | 78  | 84  |\n",
    "|-------|-----|-----|-----|-----|-----|-----|-----|-----|----|----|----|----|-----|-----|-----|\n",
    "| Speed | 124 | 134 | 148 | 156 | 147 | 133 | 121 | 109 | 99 | 85 | 78 | 89 | 104 | 116 | 123 |\n",
    "\n",
    "How long is the track?"
   ]
  },
  {
   "cell_type": "code",
   "execution_count": null,
   "id": "47692552",
   "metadata": {},
   "outputs": [],
   "source": []
  },
  {
   "attachments": {},
   "cell_type": "markdown",
   "id": "9fff34fb",
   "metadata": {},
   "source": [
    "### Task 3 Brake pads\n",
    "\n",
    "To simulate the thermal characteristics of disk brakes (see the following figure), D. A. Secrist and R. W. Hornbeck [SH] needed to approximate numerically the “area averaged lining temperature,” $T$ , of the brake pad from the equation\n",
    "\n",
    "$$T = \\frac{\\int_{r_e}^{r_o} T(r) r\\theta_p~dr}{\\int_{r_e}^{r_o} r\\theta_p~dr},$$\n",
    "\n",
    "where, $r_e$ represents the radius at which the pad-disk contact begins, $r_o$ represents the outside radius of the pad-disk contact, $\\theta_p$ represents the angle subtended by the sector brake pads, and $T(r)$ is the temperature at each point of the pad, obtained numerically from analyzing the heat equation (maybe we'll get to this later in the course). Suppose that $r_e= 0.308$ ft, $r_o = 0.478$ ft, and $\\theta_p = 0.7051$ radians and that the temperatures given in the following table have been calculated at the various points on the disk. Approximate $T$.\n",
    "\n",
    "| $r$     | $T(r)$ | $r$     | $T(r)$ | $r$     | $T(r)$ |\n",
    "|-------|------|-------|------|-------|------|\n",
    "| 0.308 | 640  | 0.376 | 1034 | 0.444 | 1204 |\n",
    "| 0.325 | 794  | 0.393 | 1064 | 0.461 | 1222 |\n",
    "| 0.342 | 885  | 0.410 | 1114 | 0.478 | 1239 |\n",
    "| 0.359 | 943  | 0.427 | 1152 |       |      |\n",
    "\n",
    "```{image} ./brake_disc.png\n",
    ":alt: brake disc diagram\n",
    ":width: 400px\n",
    ":align: center\n",
    "```\n",
    "\n",
    "A brake disk consists of 2 concentric circles. A sector at the top is labeled brake pad, which attaches to the circumference of the outer circle. The angle subtended by the sector is $\\theta_p$. The radius $r_e$ is drawn from the center of the inner circle to the brake pad contact. The radius $r_o$ is drawn from the center of the inner circle to the pad disk contact."
   ]
  },
  {
   "cell_type": "code",
   "execution_count": null,
   "id": "74762a55",
   "metadata": {},
   "outputs": [],
   "source": []
  },
  {
   "cell_type": "code",
   "execution_count": null,
   "id": "c978053e",
   "metadata": {},
   "outputs": [],
   "source": []
  },
  {
   "cell_type": "markdown",
   "id": "cb067459",
   "metadata": {},
   "source": [
    "### Last Task - Save your work as both a pdf and a ipynb file and upload to Canvas.\n",
    "Files not saved as pdfs or incorrectly uploaded files will not earn any points. You can double-check your submissions."
   ]
  },
  {
   "cell_type": "code",
   "execution_count": null,
   "id": "8502c7e1",
   "metadata": {},
   "outputs": [],
   "source": []
  }
 ],
 "metadata": {
  "kernelspec": {
   "display_name": "Python 3 (ipykernel)",
   "language": "python",
   "name": "python3"
  },
  "language_info": {
   "codemirror_mode": {
    "name": "ipython",
    "version": 3
   },
   "file_extension": ".py",
   "mimetype": "text/x-python",
   "name": "python",
   "nbconvert_exporter": "python",
   "pygments_lexer": "ipython3",
   "version": "3.9.12"
  }
 },
 "nbformat": 4,
 "nbformat_minor": 5
}
