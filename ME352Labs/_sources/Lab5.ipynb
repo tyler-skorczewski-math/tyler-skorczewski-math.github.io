{
 "cells": [
  {
   "cell_type": "markdown",
   "id": "2690be2d",
   "metadata": {},
   "source": [
    "# Lab 5. Interpolation Lab/HW\n",
    "This activity will explore the code behind some basic interpolation techniques and some applications using routines from python libraries. Make sure to put a text cell with your name at the top."
   ]
  },
  {
   "cell_type": "code",
   "execution_count": 1,
   "id": "c02d9c81",
   "metadata": {},
   "outputs": [],
   "source": [
    "import numpy as np\n",
    "import matplotlib.pyplot as plt\n",
    "%matplotlib inline"
   ]
  },
  {
   "cell_type": "markdown",
   "id": "da787da1",
   "metadata": {},
   "source": [
    "### Task 1. linear interpolation\n",
    "Below are arrays $xa$ and $ya$.\n",
    "- Make a plot of the data using both lines and circles.\n",
    "- Write your own function that returns the value of the linear interpolation of the data. The function will take in the $x$ value you want to evaluate and the two arrays.\n",
    "- Print the test case of mylinterp(2.1, $xa$, $ya$)\n",
    "- Verify your code using the built in python command [interp1d](https://docs.scipy.org/doc/scipy/reference/generated/scipy.interpolate.interp1d.html), i.e. print the output of this function with the same inputs as above."
   ]
  },
  {
   "cell_type": "code",
   "execution_count": 2,
   "id": "859b2adc",
   "metadata": {},
   "outputs": [
    {
     "ename": "IndentationError",
     "evalue": "expected an indented block (253898524.py, line 8)",
     "output_type": "error",
     "traceback": [
      "\u001b[1;36m  Input \u001b[1;32mIn [2]\u001b[1;36m\u001b[0m\n\u001b[1;33m    #print(mylinterp(2.1,xa,ya)) #print the output of the linterp command\u001b[0m\n\u001b[1;37m                                                                         ^\u001b[0m\n\u001b[1;31mIndentationError\u001b[0m\u001b[1;31m:\u001b[0m expected an indented block\n"
     ]
    }
   ],
   "source": [
    "xa = np.array([0.,1.2,3.2,4.1])\n",
    "ya = np.array([3.1,4.15,9.26,5.35])\n",
    "\n",
    "def mylinterp(x,xarray,yarray):\n",
    "    #YOUR CODE HERE\n",
    "    \n",
    "\n",
    "#print(mylinterp(2.1,xa,ya)) #print the output of the linterp command"
   ]
  },
  {
   "cell_type": "markdown",
   "id": "a7fb3438",
   "metadata": {},
   "source": [
    "### Task 2. cubic splines\n",
    "Below are two data arrays, datat & datad.\n",
    "- Import the cubic spline function.\n",
    "- Plot the data with datat on the horizontal axis and datad on the vertical. Use just black circles.\n",
    "- Make sure to label your axes.\n",
    "- Plot the cubic spline that interpolates the data with natural boundary conditions in red.\n",
    "- Plot the cubic spline with the not-a-knot boundary conditions in blue.\n",
    "- Plot the cubic spline with clamped boundary conditions in magenta."
   ]
  },
  {
   "cell_type": "code",
   "execution_count": null,
   "id": "ceab648e",
   "metadata": {},
   "outputs": [],
   "source": [
    "datat = np.array([0,3,6,8,13])\n",
    "datad = np.array([0,198,363,703,993])\n",
    "\n",
    "#YOUR CODE HERE"
   ]
  },
  {
   "cell_type": "markdown",
   "id": "6d8d3f61",
   "metadata": {},
   "source": [
    "### Task 3. \n",
    "- Save the lab5data.csv file from Canvas to your working directory for this activity.\n",
    "- Read in the file here. Skip the first row since it is the column headers.\n",
    "- Print the number of rows of data.\n",
    "- Plot the data (black circles), the Lagrange polynomial interpolation of the data (red dashed line), and the natural cubic spline (blue dotted line).\n",
    "- Make sure to label axes and add a legend."
   ]
  },
  {
   "cell_type": "code",
   "execution_count": 3,
   "id": "5420c5be",
   "metadata": {},
   "outputs": [],
   "source": [
    "#Lagrange interpolating polynomial from class lesson\n",
    "def myLagrangeInterp(x,datax,dataf):\n",
    "    if (len(datax) != len(dataf)): #note != means not equals and == means equals\n",
    "        print(\"data arrays not same size!\")\n",
    "        return\n",
    "    s = 0.\n",
    "    for i in range(len(dataf)):\n",
    "        prod = dataf[i]\n",
    "        for j in range(len(datax)):\n",
    "            if (i != j):\n",
    "                prod *= (x-datax[j])/(datax[i] - datax[j])\n",
    "        s+=prod\n",
    "    \n",
    "    return(s)"
   ]
  },
  {
   "cell_type": "code",
   "execution_count": null,
   "id": "380b0012",
   "metadata": {},
   "outputs": [],
   "source": []
  },
  {
   "cell_type": "markdown",
   "id": "cff66115",
   "metadata": {},
   "source": [
    "### Task 4. Application problem\n",
    "On Canvas find a MS Excel file Tensile_RawData_1.xlsx. This file has the output of a tensile load test for an aluminum sample. It shows the time(sec), extension(mm), and load(applied force) of the test until the sample fractures. Modify/manipulate/prepare this file and read it in here. Plot the data and use a cubic spline to estimate the load when the extension is 1.55 mm. Use a text cell to justify your choice of boundary conditions. "
   ]
  },
  {
   "cell_type": "code",
   "execution_count": null,
   "id": "8c9179ee",
   "metadata": {},
   "outputs": [],
   "source": []
  },
  {
   "cell_type": "code",
   "execution_count": null,
   "id": "e0f2f02a",
   "metadata": {},
   "outputs": [],
   "source": []
  },
  {
   "cell_type": "markdown",
   "id": "cb067459",
   "metadata": {},
   "source": [
    "### Last Task - Save your work as both a pdf and a ipynb file and upload to Canvas."
   ]
  }
 ],
 "metadata": {
  "kernelspec": {
   "display_name": "Python 3 (ipykernel)",
   "language": "python",
   "name": "python3"
  },
  "language_info": {
   "codemirror_mode": {
    "name": "ipython",
    "version": 3
   },
   "file_extension": ".py",
   "mimetype": "text/x-python",
   "name": "python",
   "nbconvert_exporter": "python",
   "pygments_lexer": "ipython3",
   "version": "3.9.12"
  }
 },
 "nbformat": 4,
 "nbformat_minor": 5
}
